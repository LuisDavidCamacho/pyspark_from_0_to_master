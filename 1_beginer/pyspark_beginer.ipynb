{
 "cells": [
  {
   "metadata": {},
   "cell_type": "markdown",
   "source": "",
   "id": "a350905c2b48cadf"
  },
  {
   "metadata": {
    "ExecuteTime": {
     "end_time": "2025-06-01T07:42:34.742892Z",
     "start_time": "2025-06-01T07:42:34.738046Z"
    }
   },
   "cell_type": "code",
   "source": [
    "import findspark\n",
    "findspark.init()"
   ],
   "id": "83783c5d7382427",
   "outputs": [],
   "execution_count": 2
  },
  {
   "metadata": {
    "ExecuteTime": {
     "end_time": "2025-06-01T07:43:15.177128Z",
     "start_time": "2025-06-01T07:43:15.173357Z"
    }
   },
   "cell_type": "code",
   "source": "from pyspark.sql import SparkSession",
   "id": "bf3883404cb9d90f",
   "outputs": [],
   "execution_count": 5
  },
  {
   "metadata": {
    "ExecuteTime": {
     "end_time": "2025-06-01T07:43:49.819502Z",
     "start_time": "2025-06-01T07:43:46.859264Z"
    }
   },
   "cell_type": "code",
   "source": [
    "import pyspark\n",
    "sc = pyspark.SparkContext()"
   ],
   "id": "d4b187c8888fb6ab",
   "outputs": [],
   "execution_count": 6
  },
  {
   "metadata": {
    "ExecuteTime": {
     "end_time": "2025-06-01T07:43:52.822960Z",
     "start_time": "2025-06-01T07:43:52.686030Z"
    }
   },
   "cell_type": "code",
   "source": "session = SparkSession.builder.appName(\"MyFirstSparkScript\").getOrCreate()",
   "id": "f04a6295ca0f0f9a",
   "outputs": [],
   "execution_count": 7
  },
  {
   "metadata": {
    "ExecuteTime": {
     "end_time": "2025-06-01T07:46:39.965397Z",
     "start_time": "2025-06-01T07:46:36.848449Z"
    }
   },
   "cell_type": "code",
   "source": [
    "df = session.createDataFrame([('Alice', 1)])\n",
    "df.show()"
   ],
   "id": "307a25817bcbb78d",
   "outputs": [
    {
     "name": "stdout",
     "output_type": "stream",
     "text": [
      "+-----+---+\n",
      "|   _1| _2|\n",
      "+-----+---+\n",
      "|Alice|  1|\n",
      "+-----+---+\n",
      "\n"
     ]
    }
   ],
   "execution_count": 14
  }
 ],
 "metadata": {
  "kernelspec": {
   "display_name": "Python 3",
   "language": "python",
   "name": "python3"
  },
  "language_info": {
   "codemirror_mode": {
    "name": "ipython",
    "version": 2
   },
   "file_extension": ".py",
   "mimetype": "text/x-python",
   "name": "python",
   "nbconvert_exporter": "python",
   "pygments_lexer": "ipython2",
   "version": "2.7.6"
  }
 },
 "nbformat": 4,
 "nbformat_minor": 5
}
